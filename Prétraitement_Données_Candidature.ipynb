{
  "nbformat": 4,
  "nbformat_minor": 0,
  "metadata": {
    "colab": {
      "provenance": []
    },
    "kernelspec": {
      "name": "python3",
      "display_name": "Python 3"
    },
    "language_info": {
      "name": "python"
    }
  },
  "cells": [
    {
      "cell_type": "code",
      "execution_count": null,
      "metadata": {
        "id": "L71LFjReFkCh"
      },
      "outputs": [],
      "source": [
        "# -*- coding: utf-8 -*-\n",
        "%matplotlib inline\n",
        "import pandas as pd\n",
        "import numpy as np\n",
        "import csv\n",
        "import matplotlib.pyplot as plt\n",
        "import seaborn as sns\n",
        "from sklearn import preprocessing\n",
        "from sklearn.preprocessing import LabelEncoder, OneHotEncoder\n",
        "from sklearn.model_selection import train_test_split\n",
        "from sklearn.metrics import mean_absolute_error\n",
        "from sklearn import metrics\n",
        "from sklearn import model_selection\n",
        "from sklearn.metrics import classification_report\n",
        "from sklearn.metrics import confusion_matrix\n",
        "from sklearn.metrics import accuracy_score\n",
        "from sklearn.metrics import roc_auc_score\n",
        "from sklearn.metrics import f1_score\n",
        "from sklearn.metrics import make_scorer, accuracy_score, precision_score, recall_score, f1_score\n",
        "\n",
        "\n",
        "\n",
        "from sklearn.linear_model import LogisticRegression\n",
        "from sklearn.tree import DecisionTreeClassifier\n",
        "from sklearn.neighbors import KNeighborsClassifier\n",
        "from sklearn.discriminant_analysis import LinearDiscriminantAnalysis\n",
        "from sklearn.naive_bayes import GaussianNB\n",
        "from sklearn.svm import SVC\n",
        "from sklearn.ensemble import GradientBoostingClassifier\n",
        "\n",
        "from sklearn.feature_selection import SelectKBest\n",
        "from sklearn.feature_selection import chi2\n",
        "from sklearn.decomposition import PCA\n",
        "\n",
        "from sklearn.ensemble import ExtraTreesClassifier\n",
        "from sklearn.ensemble import RandomForestClassifier\n",
        "from sklearn.tree import DecisionTreeClassifier\n",
        "\n",
        "from sklearn.model_selection import RandomizedSearchCV\n",
        "from sklearn.model_selection import GridSearchCV\n",
        "\n",
        "from scipy import stats\n",
        "\n",
        "pd.set_option('display.max_columns', 30)\n",
        "\n",
        "import warnings\n",
        "warnings.filterwarnings(\"ignore\")"
      ]
    },
    {
      "cell_type": "code",
      "source": [],
      "metadata": {
        "id": "iDO5E0vU3YhE"
      },
      "execution_count": null,
      "outputs": []
    },
    {
      "cell_type": "markdown",
      "source": [
        "## Chargement et affichage du dataset "
      ],
      "metadata": {
        "id": "OHtnFjsevU-3"
      }
    },
    {
      "cell_type": "code",
      "source": [
        "data = pd.read_csv('data.csv', header = 0) #charger le fichier CSV (dataset) en tant que Dataframe"
      ],
      "metadata": {
        "id": "FWRtnj4yGsKz"
      },
      "execution_count": null,
      "outputs": []
    },
    {
      "cell_type": "code",
      "source": [
        "data.head() #afficher les 5 premières lignes (observations) du dataframe"
      ],
      "metadata": {
        "colab": {
          "base_uri": "https://localhost:8080/",
          "height": 206
        },
        "id": "7SP0lmwxNqVa",
        "outputId": "2d59d8c1-c42e-4fea-d2a0-3088715a7573"
      },
      "execution_count": null,
      "outputs": [
        {
          "output_type": "execute_result",
          "data": {
            "text/plain": [
              "   Unnamed: 0  index        date cheveux   age   exp  salaire sexe  diplome  \\\n",
              "0           0      0  2012-06-02    roux  25.0   9.0  26803.0    F  licence   \n",
              "1           1      1  2011-04-21   blond  35.0  13.0  38166.0    M  licence   \n",
              "2           2      2  2012-09-07   blond  29.0  13.0  35207.0    M  licence   \n",
              "3           3      3  2011-07-01    brun   NaN  12.0  32442.0    M  licence   \n",
              "4           4      4  2012-08-07    roux  35.0   6.0  28533.0    F  licence   \n",
              "\n",
              "  specialite   note dispo  embauche  \n",
              "0   geologie  97.08   non         0  \n",
              "1     forage  63.86   non         0  \n",
              "2   geologie  78.50   non         0  \n",
              "3   geologie  45.09   non         0  \n",
              "4  detective  81.91   non         0  "
            ],
            "text/html": [
              "\n",
              "  <div id=\"df-2e4b2cde-f756-45f2-861c-dd2ef3208b87\">\n",
              "    <div class=\"colab-df-container\">\n",
              "      <div>\n",
              "<style scoped>\n",
              "    .dataframe tbody tr th:only-of-type {\n",
              "        vertical-align: middle;\n",
              "    }\n",
              "\n",
              "    .dataframe tbody tr th {\n",
              "        vertical-align: top;\n",
              "    }\n",
              "\n",
              "    .dataframe thead th {\n",
              "        text-align: right;\n",
              "    }\n",
              "</style>\n",
              "<table border=\"1\" class=\"dataframe\">\n",
              "  <thead>\n",
              "    <tr style=\"text-align: right;\">\n",
              "      <th></th>\n",
              "      <th>Unnamed: 0</th>\n",
              "      <th>index</th>\n",
              "      <th>date</th>\n",
              "      <th>cheveux</th>\n",
              "      <th>age</th>\n",
              "      <th>exp</th>\n",
              "      <th>salaire</th>\n",
              "      <th>sexe</th>\n",
              "      <th>diplome</th>\n",
              "      <th>specialite</th>\n",
              "      <th>note</th>\n",
              "      <th>dispo</th>\n",
              "      <th>embauche</th>\n",
              "    </tr>\n",
              "  </thead>\n",
              "  <tbody>\n",
              "    <tr>\n",
              "      <th>0</th>\n",
              "      <td>0</td>\n",
              "      <td>0</td>\n",
              "      <td>2012-06-02</td>\n",
              "      <td>roux</td>\n",
              "      <td>25.0</td>\n",
              "      <td>9.0</td>\n",
              "      <td>26803.0</td>\n",
              "      <td>F</td>\n",
              "      <td>licence</td>\n",
              "      <td>geologie</td>\n",
              "      <td>97.08</td>\n",
              "      <td>non</td>\n",
              "      <td>0</td>\n",
              "    </tr>\n",
              "    <tr>\n",
              "      <th>1</th>\n",
              "      <td>1</td>\n",
              "      <td>1</td>\n",
              "      <td>2011-04-21</td>\n",
              "      <td>blond</td>\n",
              "      <td>35.0</td>\n",
              "      <td>13.0</td>\n",
              "      <td>38166.0</td>\n",
              "      <td>M</td>\n",
              "      <td>licence</td>\n",
              "      <td>forage</td>\n",
              "      <td>63.86</td>\n",
              "      <td>non</td>\n",
              "      <td>0</td>\n",
              "    </tr>\n",
              "    <tr>\n",
              "      <th>2</th>\n",
              "      <td>2</td>\n",
              "      <td>2</td>\n",
              "      <td>2012-09-07</td>\n",
              "      <td>blond</td>\n",
              "      <td>29.0</td>\n",
              "      <td>13.0</td>\n",
              "      <td>35207.0</td>\n",
              "      <td>M</td>\n",
              "      <td>licence</td>\n",
              "      <td>geologie</td>\n",
              "      <td>78.50</td>\n",
              "      <td>non</td>\n",
              "      <td>0</td>\n",
              "    </tr>\n",
              "    <tr>\n",
              "      <th>3</th>\n",
              "      <td>3</td>\n",
              "      <td>3</td>\n",
              "      <td>2011-07-01</td>\n",
              "      <td>brun</td>\n",
              "      <td>NaN</td>\n",
              "      <td>12.0</td>\n",
              "      <td>32442.0</td>\n",
              "      <td>M</td>\n",
              "      <td>licence</td>\n",
              "      <td>geologie</td>\n",
              "      <td>45.09</td>\n",
              "      <td>non</td>\n",
              "      <td>0</td>\n",
              "    </tr>\n",
              "    <tr>\n",
              "      <th>4</th>\n",
              "      <td>4</td>\n",
              "      <td>4</td>\n",
              "      <td>2012-08-07</td>\n",
              "      <td>roux</td>\n",
              "      <td>35.0</td>\n",
              "      <td>6.0</td>\n",
              "      <td>28533.0</td>\n",
              "      <td>F</td>\n",
              "      <td>licence</td>\n",
              "      <td>detective</td>\n",
              "      <td>81.91</td>\n",
              "      <td>non</td>\n",
              "      <td>0</td>\n",
              "    </tr>\n",
              "  </tbody>\n",
              "</table>\n",
              "</div>\n",
              "      <button class=\"colab-df-convert\" onclick=\"convertToInteractive('df-2e4b2cde-f756-45f2-861c-dd2ef3208b87')\"\n",
              "              title=\"Convert this dataframe to an interactive table.\"\n",
              "              style=\"display:none;\">\n",
              "        \n",
              "  <svg xmlns=\"http://www.w3.org/2000/svg\" height=\"24px\"viewBox=\"0 0 24 24\"\n",
              "       width=\"24px\">\n",
              "    <path d=\"M0 0h24v24H0V0z\" fill=\"none\"/>\n",
              "    <path d=\"M18.56 5.44l.94 2.06.94-2.06 2.06-.94-2.06-.94-.94-2.06-.94 2.06-2.06.94zm-11 1L8.5 8.5l.94-2.06 2.06-.94-2.06-.94L8.5 2.5l-.94 2.06-2.06.94zm10 10l.94 2.06.94-2.06 2.06-.94-2.06-.94-.94-2.06-.94 2.06-2.06.94z\"/><path d=\"M17.41 7.96l-1.37-1.37c-.4-.4-.92-.59-1.43-.59-.52 0-1.04.2-1.43.59L10.3 9.45l-7.72 7.72c-.78.78-.78 2.05 0 2.83L4 21.41c.39.39.9.59 1.41.59.51 0 1.02-.2 1.41-.59l7.78-7.78 2.81-2.81c.8-.78.8-2.07 0-2.86zM5.41 20L4 18.59l7.72-7.72 1.47 1.35L5.41 20z\"/>\n",
              "  </svg>\n",
              "      </button>\n",
              "      \n",
              "  <style>\n",
              "    .colab-df-container {\n",
              "      display:flex;\n",
              "      flex-wrap:wrap;\n",
              "      gap: 12px;\n",
              "    }\n",
              "\n",
              "    .colab-df-convert {\n",
              "      background-color: #E8F0FE;\n",
              "      border: none;\n",
              "      border-radius: 50%;\n",
              "      cursor: pointer;\n",
              "      display: none;\n",
              "      fill: #1967D2;\n",
              "      height: 32px;\n",
              "      padding: 0 0 0 0;\n",
              "      width: 32px;\n",
              "    }\n",
              "\n",
              "    .colab-df-convert:hover {\n",
              "      background-color: #E2EBFA;\n",
              "      box-shadow: 0px 1px 2px rgba(60, 64, 67, 0.3), 0px 1px 3px 1px rgba(60, 64, 67, 0.15);\n",
              "      fill: #174EA6;\n",
              "    }\n",
              "\n",
              "    [theme=dark] .colab-df-convert {\n",
              "      background-color: #3B4455;\n",
              "      fill: #D2E3FC;\n",
              "    }\n",
              "\n",
              "    [theme=dark] .colab-df-convert:hover {\n",
              "      background-color: #434B5C;\n",
              "      box-shadow: 0px 1px 3px 1px rgba(0, 0, 0, 0.15);\n",
              "      filter: drop-shadow(0px 1px 2px rgba(0, 0, 0, 0.3));\n",
              "      fill: #FFFFFF;\n",
              "    }\n",
              "  </style>\n",
              "\n",
              "      <script>\n",
              "        const buttonEl =\n",
              "          document.querySelector('#df-2e4b2cde-f756-45f2-861c-dd2ef3208b87 button.colab-df-convert');\n",
              "        buttonEl.style.display =\n",
              "          google.colab.kernel.accessAllowed ? 'block' : 'none';\n",
              "\n",
              "        async function convertToInteractive(key) {\n",
              "          const element = document.querySelector('#df-2e4b2cde-f756-45f2-861c-dd2ef3208b87');\n",
              "          const dataTable =\n",
              "            await google.colab.kernel.invokeFunction('convertToInteractive',\n",
              "                                                     [key], {});\n",
              "          if (!dataTable) return;\n",
              "\n",
              "          const docLinkHtml = 'Like what you see? Visit the ' +\n",
              "            '<a target=\"_blank\" href=https://colab.research.google.com/notebooks/data_table.ipynb>data table notebook</a>'\n",
              "            + ' to learn more about interactive tables.';\n",
              "          element.innerHTML = '';\n",
              "          dataTable['output_type'] = 'display_data';\n",
              "          await google.colab.output.renderOutput(dataTable, element);\n",
              "          const docLink = document.createElement('div');\n",
              "          docLink.innerHTML = docLinkHtml;\n",
              "          element.appendChild(docLink);\n",
              "        }\n",
              "      </script>\n",
              "    </div>\n",
              "  </div>\n",
              "  "
            ]
          },
          "metadata": {},
          "execution_count": 521
        }
      ]
    },
    {
      "cell_type": "code",
      "source": [
        "print(\"Nombre d’observations : \", len(data)) #afficher la taille du dataframe (nombre de lignes)"
      ],
      "metadata": {
        "colab": {
          "base_uri": "https://localhost:8080/"
        },
        "id": "KEBH1R7u8jSq",
        "outputId": "d9a4110d-70a8-4389-e3bd-de7b5596ddbc"
      },
      "execution_count": null,
      "outputs": [
        {
          "output_type": "stream",
          "name": "stdout",
          "text": [
            "Nombre d’observations :  20000\n"
          ]
        }
      ]
    },
    {
      "cell_type": "markdown",
      "source": [
        "# 1. Prétraitement de données & Statistiques descriptives"
      ],
      "metadata": {
        "id": "Fyv3HD6Nw_vN"
      }
    },
    {
      "cell_type": "markdown",
      "source": [
        "## 1.1 Reformataion des données \n",
        "#### consiste à changer la structure de l'ensemble de données en supprimant des colonnes redondantes ou non pertinentes pour le modèle. Le but est de conserver uniquement les colonnes qui apportent de l'information utile pour la prédiction de la classe, et d'éliminer celles qui pourraient nuire au modèle ou n'ont pas d'influence sur la prédiction."
      ],
      "metadata": {
        "id": "sZa9zQHBItzY"
      }
    },
    {
      "cell_type": "code",
      "source": [
        "data = data.drop(['Unnamed: 0', 'index', 'date'], axis=1) #Suppression des variables redondantes (index et Unnamed) et non pertinentes pour la prédiction (date)."
      ],
      "metadata": {
        "id": "KBIbze7AH8lv"
      },
      "execution_count": null,
      "outputs": []
    },
    {
      "cell_type": "code",
      "source": [
        "data.head() #reafficher les 5 premières lignes du dataframe après la suppression des 3 variables (Unnamed: 0, index, date)"
      ],
      "metadata": {
        "colab": {
          "base_uri": "https://localhost:8080/",
          "height": 206
        },
        "id": "70ODVX-ANkGg",
        "outputId": "ac195d4f-5efc-40f9-c65d-3a189e771333"
      },
      "execution_count": null,
      "outputs": [
        {
          "output_type": "execute_result",
          "data": {
            "text/plain": [
              "  cheveux   age   exp  salaire sexe  diplome specialite   note dispo  embauche\n",
              "0    roux  25.0   9.0  26803.0    F  licence   geologie  97.08   non         0\n",
              "1   blond  35.0  13.0  38166.0    M  licence     forage  63.86   non         0\n",
              "2   blond  29.0  13.0  35207.0    M  licence   geologie  78.50   non         0\n",
              "3    brun   NaN  12.0  32442.0    M  licence   geologie  45.09   non         0\n",
              "4    roux  35.0   6.0  28533.0    F  licence  detective  81.91   non         0"
            ],
            "text/html": [
              "\n",
              "  <div id=\"df-ee3fa3c3-7fcd-4c4d-900d-52d11f9f7702\">\n",
              "    <div class=\"colab-df-container\">\n",
              "      <div>\n",
              "<style scoped>\n",
              "    .dataframe tbody tr th:only-of-type {\n",
              "        vertical-align: middle;\n",
              "    }\n",
              "\n",
              "    .dataframe tbody tr th {\n",
              "        vertical-align: top;\n",
              "    }\n",
              "\n",
              "    .dataframe thead th {\n",
              "        text-align: right;\n",
              "    }\n",
              "</style>\n",
              "<table border=\"1\" class=\"dataframe\">\n",
              "  <thead>\n",
              "    <tr style=\"text-align: right;\">\n",
              "      <th></th>\n",
              "      <th>cheveux</th>\n",
              "      <th>age</th>\n",
              "      <th>exp</th>\n",
              "      <th>salaire</th>\n",
              "      <th>sexe</th>\n",
              "      <th>diplome</th>\n",
              "      <th>specialite</th>\n",
              "      <th>note</th>\n",
              "      <th>dispo</th>\n",
              "      <th>embauche</th>\n",
              "    </tr>\n",
              "  </thead>\n",
              "  <tbody>\n",
              "    <tr>\n",
              "      <th>0</th>\n",
              "      <td>roux</td>\n",
              "      <td>25.0</td>\n",
              "      <td>9.0</td>\n",
              "      <td>26803.0</td>\n",
              "      <td>F</td>\n",
              "      <td>licence</td>\n",
              "      <td>geologie</td>\n",
              "      <td>97.08</td>\n",
              "      <td>non</td>\n",
              "      <td>0</td>\n",
              "    </tr>\n",
              "    <tr>\n",
              "      <th>1</th>\n",
              "      <td>blond</td>\n",
              "      <td>35.0</td>\n",
              "      <td>13.0</td>\n",
              "      <td>38166.0</td>\n",
              "      <td>M</td>\n",
              "      <td>licence</td>\n",
              "      <td>forage</td>\n",
              "      <td>63.86</td>\n",
              "      <td>non</td>\n",
              "      <td>0</td>\n",
              "    </tr>\n",
              "    <tr>\n",
              "      <th>2</th>\n",
              "      <td>blond</td>\n",
              "      <td>29.0</td>\n",
              "      <td>13.0</td>\n",
              "      <td>35207.0</td>\n",
              "      <td>M</td>\n",
              "      <td>licence</td>\n",
              "      <td>geologie</td>\n",
              "      <td>78.50</td>\n",
              "      <td>non</td>\n",
              "      <td>0</td>\n",
              "    </tr>\n",
              "    <tr>\n",
              "      <th>3</th>\n",
              "      <td>brun</td>\n",
              "      <td>NaN</td>\n",
              "      <td>12.0</td>\n",
              "      <td>32442.0</td>\n",
              "      <td>M</td>\n",
              "      <td>licence</td>\n",
              "      <td>geologie</td>\n",
              "      <td>45.09</td>\n",
              "      <td>non</td>\n",
              "      <td>0</td>\n",
              "    </tr>\n",
              "    <tr>\n",
              "      <th>4</th>\n",
              "      <td>roux</td>\n",
              "      <td>35.0</td>\n",
              "      <td>6.0</td>\n",
              "      <td>28533.0</td>\n",
              "      <td>F</td>\n",
              "      <td>licence</td>\n",
              "      <td>detective</td>\n",
              "      <td>81.91</td>\n",
              "      <td>non</td>\n",
              "      <td>0</td>\n",
              "    </tr>\n",
              "  </tbody>\n",
              "</table>\n",
              "</div>\n",
              "      <button class=\"colab-df-convert\" onclick=\"convertToInteractive('df-ee3fa3c3-7fcd-4c4d-900d-52d11f9f7702')\"\n",
              "              title=\"Convert this dataframe to an interactive table.\"\n",
              "              style=\"display:none;\">\n",
              "        \n",
              "  <svg xmlns=\"http://www.w3.org/2000/svg\" height=\"24px\"viewBox=\"0 0 24 24\"\n",
              "       width=\"24px\">\n",
              "    <path d=\"M0 0h24v24H0V0z\" fill=\"none\"/>\n",
              "    <path d=\"M18.56 5.44l.94 2.06.94-2.06 2.06-.94-2.06-.94-.94-2.06-.94 2.06-2.06.94zm-11 1L8.5 8.5l.94-2.06 2.06-.94-2.06-.94L8.5 2.5l-.94 2.06-2.06.94zm10 10l.94 2.06.94-2.06 2.06-.94-2.06-.94-.94-2.06-.94 2.06-2.06.94z\"/><path d=\"M17.41 7.96l-1.37-1.37c-.4-.4-.92-.59-1.43-.59-.52 0-1.04.2-1.43.59L10.3 9.45l-7.72 7.72c-.78.78-.78 2.05 0 2.83L4 21.41c.39.39.9.59 1.41.59.51 0 1.02-.2 1.41-.59l7.78-7.78 2.81-2.81c.8-.78.8-2.07 0-2.86zM5.41 20L4 18.59l7.72-7.72 1.47 1.35L5.41 20z\"/>\n",
              "  </svg>\n",
              "      </button>\n",
              "      \n",
              "  <style>\n",
              "    .colab-df-container {\n",
              "      display:flex;\n",
              "      flex-wrap:wrap;\n",
              "      gap: 12px;\n",
              "    }\n",
              "\n",
              "    .colab-df-convert {\n",
              "      background-color: #E8F0FE;\n",
              "      border: none;\n",
              "      border-radius: 50%;\n",
              "      cursor: pointer;\n",
              "      display: none;\n",
              "      fill: #1967D2;\n",
              "      height: 32px;\n",
              "      padding: 0 0 0 0;\n",
              "      width: 32px;\n",
              "    }\n",
              "\n",
              "    .colab-df-convert:hover {\n",
              "      background-color: #E2EBFA;\n",
              "      box-shadow: 0px 1px 2px rgba(60, 64, 67, 0.3), 0px 1px 3px 1px rgba(60, 64, 67, 0.15);\n",
              "      fill: #174EA6;\n",
              "    }\n",
              "\n",
              "    [theme=dark] .colab-df-convert {\n",
              "      background-color: #3B4455;\n",
              "      fill: #D2E3FC;\n",
              "    }\n",
              "\n",
              "    [theme=dark] .colab-df-convert:hover {\n",
              "      background-color: #434B5C;\n",
              "      box-shadow: 0px 1px 3px 1px rgba(0, 0, 0, 0.15);\n",
              "      filter: drop-shadow(0px 1px 2px rgba(0, 0, 0, 0.3));\n",
              "      fill: #FFFFFF;\n",
              "    }\n",
              "  </style>\n",
              "\n",
              "      <script>\n",
              "        const buttonEl =\n",
              "          document.querySelector('#df-ee3fa3c3-7fcd-4c4d-900d-52d11f9f7702 button.colab-df-convert');\n",
              "        buttonEl.style.display =\n",
              "          google.colab.kernel.accessAllowed ? 'block' : 'none';\n",
              "\n",
              "        async function convertToInteractive(key) {\n",
              "          const element = document.querySelector('#df-ee3fa3c3-7fcd-4c4d-900d-52d11f9f7702');\n",
              "          const dataTable =\n",
              "            await google.colab.kernel.invokeFunction('convertToInteractive',\n",
              "                                                     [key], {});\n",
              "          if (!dataTable) return;\n",
              "\n",
              "          const docLinkHtml = 'Like what you see? Visit the ' +\n",
              "            '<a target=\"_blank\" href=https://colab.research.google.com/notebooks/data_table.ipynb>data table notebook</a>'\n",
              "            + ' to learn more about interactive tables.';\n",
              "          element.innerHTML = '';\n",
              "          dataTable['output_type'] = 'display_data';\n",
              "          await google.colab.output.renderOutput(dataTable, element);\n",
              "          const docLink = document.createElement('div');\n",
              "          docLink.innerHTML = docLinkHtml;\n",
              "          element.appendChild(docLink);\n",
              "        }\n",
              "      </script>\n",
              "    </div>\n",
              "  </div>\n",
              "  "
            ]
          },
          "metadata": {},
          "execution_count": 524
        }
      ]
    },
    {
      "cell_type": "code",
      "source": [
        "data.describe() #affiche le sommaire statistique du dataframe pour les données quantitatives (numériques)\n",
        "\n",
        "# Count : Compte le nombre d’observation de chaque colonne --> data.count()\n",
        "# Mean  : Renvoie la moyenne de chaque colonne --> data.mean()                 PS : valeur centrale de la distribution des données\n",
        "# Std   : Renvoie l'écart-type de chaque colonne --> data.std()                PS:  mesure de la dispersion des données autour de la moyenne, plus l'écart-type est élevé, plus les données sont dispersées\n",
        "# Min   : Renvoie la valeur minimale de chaque colonne --> data.min()\n",
        "# 25%   : Renvoie le premier quantile Q1 de chaque colonne --> data[\"age\"].quantile(0.25)\n",
        "# 50%   : Renvoie la mediane de chaque colonne  --> data.median() ou data[\"age\"].quantile(0.50)\n",
        "# 75%   : Renvoie le troisième quantile Q3 de chaque colonne --> data[\"age\"].quantile(0.75)\n",
        "# Max   : Renvoie la valeur maximale de chaque colonne --> data.max()"
      ],
      "metadata": {
        "colab": {
          "base_uri": "https://localhost:8080/",
          "height": 300
        },
        "id": "fuNi655pQ50V",
        "outputId": "a671365e-f5a5-492a-a2cd-b3d848d2066b"
      },
      "execution_count": null,
      "outputs": [
        {
          "output_type": "execute_result",
          "data": {
            "text/plain": [
              "                age           exp       salaire          note      embauche\n",
              "count  19909.000000  19904.000000  19905.000000  19886.000000  20000.000000\n",
              "mean      35.004521      9.500352  34974.343934     75.168762      0.114600\n",
              "std        9.609169      3.012109   5003.099616     17.095926      0.318547\n",
              "min       -3.000000     -2.000000  14128.000000      8.680000      0.000000\n",
              "25%       29.000000      7.000000  31596.000000     63.720000      0.000000\n",
              "50%       35.000000      9.000000  34979.000000     75.080000      0.000000\n",
              "75%       41.000000     12.000000  38358.000000     86.617500      0.000000\n",
              "max       74.000000     23.000000  53977.000000    143.220000      1.000000"
            ],
            "text/html": [
              "\n",
              "  <div id=\"df-5f3c1768-4718-4080-9093-2084ba8f85a9\">\n",
              "    <div class=\"colab-df-container\">\n",
              "      <div>\n",
              "<style scoped>\n",
              "    .dataframe tbody tr th:only-of-type {\n",
              "        vertical-align: middle;\n",
              "    }\n",
              "\n",
              "    .dataframe tbody tr th {\n",
              "        vertical-align: top;\n",
              "    }\n",
              "\n",
              "    .dataframe thead th {\n",
              "        text-align: right;\n",
              "    }\n",
              "</style>\n",
              "<table border=\"1\" class=\"dataframe\">\n",
              "  <thead>\n",
              "    <tr style=\"text-align: right;\">\n",
              "      <th></th>\n",
              "      <th>age</th>\n",
              "      <th>exp</th>\n",
              "      <th>salaire</th>\n",
              "      <th>note</th>\n",
              "      <th>embauche</th>\n",
              "    </tr>\n",
              "  </thead>\n",
              "  <tbody>\n",
              "    <tr>\n",
              "      <th>count</th>\n",
              "      <td>19909.000000</td>\n",
              "      <td>19904.000000</td>\n",
              "      <td>19905.000000</td>\n",
              "      <td>19886.000000</td>\n",
              "      <td>20000.000000</td>\n",
              "    </tr>\n",
              "    <tr>\n",
              "      <th>mean</th>\n",
              "      <td>35.004521</td>\n",
              "      <td>9.500352</td>\n",
              "      <td>34974.343934</td>\n",
              "      <td>75.168762</td>\n",
              "      <td>0.114600</td>\n",
              "    </tr>\n",
              "    <tr>\n",
              "      <th>std</th>\n",
              "      <td>9.609169</td>\n",
              "      <td>3.012109</td>\n",
              "      <td>5003.099616</td>\n",
              "      <td>17.095926</td>\n",
              "      <td>0.318547</td>\n",
              "    </tr>\n",
              "    <tr>\n",
              "      <th>min</th>\n",
              "      <td>-3.000000</td>\n",
              "      <td>-2.000000</td>\n",
              "      <td>14128.000000</td>\n",
              "      <td>8.680000</td>\n",
              "      <td>0.000000</td>\n",
              "    </tr>\n",
              "    <tr>\n",
              "      <th>25%</th>\n",
              "      <td>29.000000</td>\n",
              "      <td>7.000000</td>\n",
              "      <td>31596.000000</td>\n",
              "      <td>63.720000</td>\n",
              "      <td>0.000000</td>\n",
              "    </tr>\n",
              "    <tr>\n",
              "      <th>50%</th>\n",
              "      <td>35.000000</td>\n",
              "      <td>9.000000</td>\n",
              "      <td>34979.000000</td>\n",
              "      <td>75.080000</td>\n",
              "      <td>0.000000</td>\n",
              "    </tr>\n",
              "    <tr>\n",
              "      <th>75%</th>\n",
              "      <td>41.000000</td>\n",
              "      <td>12.000000</td>\n",
              "      <td>38358.000000</td>\n",
              "      <td>86.617500</td>\n",
              "      <td>0.000000</td>\n",
              "    </tr>\n",
              "    <tr>\n",
              "      <th>max</th>\n",
              "      <td>74.000000</td>\n",
              "      <td>23.000000</td>\n",
              "      <td>53977.000000</td>\n",
              "      <td>143.220000</td>\n",
              "      <td>1.000000</td>\n",
              "    </tr>\n",
              "  </tbody>\n",
              "</table>\n",
              "</div>\n",
              "      <button class=\"colab-df-convert\" onclick=\"convertToInteractive('df-5f3c1768-4718-4080-9093-2084ba8f85a9')\"\n",
              "              title=\"Convert this dataframe to an interactive table.\"\n",
              "              style=\"display:none;\">\n",
              "        \n",
              "  <svg xmlns=\"http://www.w3.org/2000/svg\" height=\"24px\"viewBox=\"0 0 24 24\"\n",
              "       width=\"24px\">\n",
              "    <path d=\"M0 0h24v24H0V0z\" fill=\"none\"/>\n",
              "    <path d=\"M18.56 5.44l.94 2.06.94-2.06 2.06-.94-2.06-.94-.94-2.06-.94 2.06-2.06.94zm-11 1L8.5 8.5l.94-2.06 2.06-.94-2.06-.94L8.5 2.5l-.94 2.06-2.06.94zm10 10l.94 2.06.94-2.06 2.06-.94-2.06-.94-.94-2.06-.94 2.06-2.06.94z\"/><path d=\"M17.41 7.96l-1.37-1.37c-.4-.4-.92-.59-1.43-.59-.52 0-1.04.2-1.43.59L10.3 9.45l-7.72 7.72c-.78.78-.78 2.05 0 2.83L4 21.41c.39.39.9.59 1.41.59.51 0 1.02-.2 1.41-.59l7.78-7.78 2.81-2.81c.8-.78.8-2.07 0-2.86zM5.41 20L4 18.59l7.72-7.72 1.47 1.35L5.41 20z\"/>\n",
              "  </svg>\n",
              "      </button>\n",
              "      \n",
              "  <style>\n",
              "    .colab-df-container {\n",
              "      display:flex;\n",
              "      flex-wrap:wrap;\n",
              "      gap: 12px;\n",
              "    }\n",
              "\n",
              "    .colab-df-convert {\n",
              "      background-color: #E8F0FE;\n",
              "      border: none;\n",
              "      border-radius: 50%;\n",
              "      cursor: pointer;\n",
              "      display: none;\n",
              "      fill: #1967D2;\n",
              "      height: 32px;\n",
              "      padding: 0 0 0 0;\n",
              "      width: 32px;\n",
              "    }\n",
              "\n",
              "    .colab-df-convert:hover {\n",
              "      background-color: #E2EBFA;\n",
              "      box-shadow: 0px 1px 2px rgba(60, 64, 67, 0.3), 0px 1px 3px 1px rgba(60, 64, 67, 0.15);\n",
              "      fill: #174EA6;\n",
              "    }\n",
              "\n",
              "    [theme=dark] .colab-df-convert {\n",
              "      background-color: #3B4455;\n",
              "      fill: #D2E3FC;\n",
              "    }\n",
              "\n",
              "    [theme=dark] .colab-df-convert:hover {\n",
              "      background-color: #434B5C;\n",
              "      box-shadow: 0px 1px 3px 1px rgba(0, 0, 0, 0.15);\n",
              "      filter: drop-shadow(0px 1px 2px rgba(0, 0, 0, 0.3));\n",
              "      fill: #FFFFFF;\n",
              "    }\n",
              "  </style>\n",
              "\n",
              "      <script>\n",
              "        const buttonEl =\n",
              "          document.querySelector('#df-5f3c1768-4718-4080-9093-2084ba8f85a9 button.colab-df-convert');\n",
              "        buttonEl.style.display =\n",
              "          google.colab.kernel.accessAllowed ? 'block' : 'none';\n",
              "\n",
              "        async function convertToInteractive(key) {\n",
              "          const element = document.querySelector('#df-5f3c1768-4718-4080-9093-2084ba8f85a9');\n",
              "          const dataTable =\n",
              "            await google.colab.kernel.invokeFunction('convertToInteractive',\n",
              "                                                     [key], {});\n",
              "          if (!dataTable) return;\n",
              "\n",
              "          const docLinkHtml = 'Like what you see? Visit the ' +\n",
              "            '<a target=\"_blank\" href=https://colab.research.google.com/notebooks/data_table.ipynb>data table notebook</a>'\n",
              "            + ' to learn more about interactive tables.';\n",
              "          element.innerHTML = '';\n",
              "          dataTable['output_type'] = 'display_data';\n",
              "          await google.colab.output.renderOutput(dataTable, element);\n",
              "          const docLink = document.createElement('div');\n",
              "          docLink.innerHTML = docLinkHtml;\n",
              "          element.appendChild(docLink);\n",
              "        }\n",
              "      </script>\n",
              "    </div>\n",
              "  </div>\n",
              "  "
            ]
          },
          "metadata": {},
          "execution_count": 525
        }
      ]
    },
    {
      "cell_type": "code",
      "source": [
        "data.corr() #Renvoie une matrice de corrélation entre chaque 2 variables quantitatives. PS : Plus la valeur se rapproche de 1, plus la corrélation est forte."
      ],
      "metadata": {
        "colab": {
          "base_uri": "https://localhost:8080/",
          "height": 206
        },
        "id": "bfmSj3Qr3za2",
        "outputId": "1cc90aff-9c32-4041-a6f0-be2562b4aa51"
      },
      "execution_count": null,
      "outputs": [
        {
          "output_type": "execute_result",
          "data": {
            "text/plain": [
              "               age       exp   salaire      note  embauche\n",
              "age       1.000000 -0.002786  0.001161 -0.007534 -0.011623\n",
              "exp      -0.002786  1.000000  0.009709 -0.012195  0.006604\n",
              "salaire   0.001161  0.009709  1.000000 -0.448422  0.002342\n",
              "note     -0.007534 -0.012195 -0.448422  1.000000  0.003019\n",
              "embauche -0.011623  0.006604  0.002342  0.003019  1.000000"
            ],
            "text/html": [
              "\n",
              "  <div id=\"df-f63c377e-6325-46e6-a4cd-2db820f58306\">\n",
              "    <div class=\"colab-df-container\">\n",
              "      <div>\n",
              "<style scoped>\n",
              "    .dataframe tbody tr th:only-of-type {\n",
              "        vertical-align: middle;\n",
              "    }\n",
              "\n",
              "    .dataframe tbody tr th {\n",
              "        vertical-align: top;\n",
              "    }\n",
              "\n",
              "    .dataframe thead th {\n",
              "        text-align: right;\n",
              "    }\n",
              "</style>\n",
              "<table border=\"1\" class=\"dataframe\">\n",
              "  <thead>\n",
              "    <tr style=\"text-align: right;\">\n",
              "      <th></th>\n",
              "      <th>age</th>\n",
              "      <th>exp</th>\n",
              "      <th>salaire</th>\n",
              "      <th>note</th>\n",
              "      <th>embauche</th>\n",
              "    </tr>\n",
              "  </thead>\n",
              "  <tbody>\n",
              "    <tr>\n",
              "      <th>age</th>\n",
              "      <td>1.000000</td>\n",
              "      <td>-0.002786</td>\n",
              "      <td>0.001161</td>\n",
              "      <td>-0.007534</td>\n",
              "      <td>-0.011623</td>\n",
              "    </tr>\n",
              "    <tr>\n",
              "      <th>exp</th>\n",
              "      <td>-0.002786</td>\n",
              "      <td>1.000000</td>\n",
              "      <td>0.009709</td>\n",
              "      <td>-0.012195</td>\n",
              "      <td>0.006604</td>\n",
              "    </tr>\n",
              "    <tr>\n",
              "      <th>salaire</th>\n",
              "      <td>0.001161</td>\n",
              "      <td>0.009709</td>\n",
              "      <td>1.000000</td>\n",
              "      <td>-0.448422</td>\n",
              "      <td>0.002342</td>\n",
              "    </tr>\n",
              "    <tr>\n",
              "      <th>note</th>\n",
              "      <td>-0.007534</td>\n",
              "      <td>-0.012195</td>\n",
              "      <td>-0.448422</td>\n",
              "      <td>1.000000</td>\n",
              "      <td>0.003019</td>\n",
              "    </tr>\n",
              "    <tr>\n",
              "      <th>embauche</th>\n",
              "      <td>-0.011623</td>\n",
              "      <td>0.006604</td>\n",
              "      <td>0.002342</td>\n",
              "      <td>0.003019</td>\n",
              "      <td>1.000000</td>\n",
              "    </tr>\n",
              "  </tbody>\n",
              "</table>\n",
              "</div>\n",
              "      <button class=\"colab-df-convert\" onclick=\"convertToInteractive('df-f63c377e-6325-46e6-a4cd-2db820f58306')\"\n",
              "              title=\"Convert this dataframe to an interactive table.\"\n",
              "              style=\"display:none;\">\n",
              "        \n",
              "  <svg xmlns=\"http://www.w3.org/2000/svg\" height=\"24px\"viewBox=\"0 0 24 24\"\n",
              "       width=\"24px\">\n",
              "    <path d=\"M0 0h24v24H0V0z\" fill=\"none\"/>\n",
              "    <path d=\"M18.56 5.44l.94 2.06.94-2.06 2.06-.94-2.06-.94-.94-2.06-.94 2.06-2.06.94zm-11 1L8.5 8.5l.94-2.06 2.06-.94-2.06-.94L8.5 2.5l-.94 2.06-2.06.94zm10 10l.94 2.06.94-2.06 2.06-.94-2.06-.94-.94-2.06-.94 2.06-2.06.94z\"/><path d=\"M17.41 7.96l-1.37-1.37c-.4-.4-.92-.59-1.43-.59-.52 0-1.04.2-1.43.59L10.3 9.45l-7.72 7.72c-.78.78-.78 2.05 0 2.83L4 21.41c.39.39.9.59 1.41.59.51 0 1.02-.2 1.41-.59l7.78-7.78 2.81-2.81c.8-.78.8-2.07 0-2.86zM5.41 20L4 18.59l7.72-7.72 1.47 1.35L5.41 20z\"/>\n",
              "  </svg>\n",
              "      </button>\n",
              "      \n",
              "  <style>\n",
              "    .colab-df-container {\n",
              "      display:flex;\n",
              "      flex-wrap:wrap;\n",
              "      gap: 12px;\n",
              "    }\n",
              "\n",
              "    .colab-df-convert {\n",
              "      background-color: #E8F0FE;\n",
              "      border: none;\n",
              "      border-radius: 50%;\n",
              "      cursor: pointer;\n",
              "      display: none;\n",
              "      fill: #1967D2;\n",
              "      height: 32px;\n",
              "      padding: 0 0 0 0;\n",
              "      width: 32px;\n",
              "    }\n",
              "\n",
              "    .colab-df-convert:hover {\n",
              "      background-color: #E2EBFA;\n",
              "      box-shadow: 0px 1px 2px rgba(60, 64, 67, 0.3), 0px 1px 3px 1px rgba(60, 64, 67, 0.15);\n",
              "      fill: #174EA6;\n",
              "    }\n",
              "\n",
              "    [theme=dark] .colab-df-convert {\n",
              "      background-color: #3B4455;\n",
              "      fill: #D2E3FC;\n",
              "    }\n",
              "\n",
              "    [theme=dark] .colab-df-convert:hover {\n",
              "      background-color: #434B5C;\n",
              "      box-shadow: 0px 1px 3px 1px rgba(0, 0, 0, 0.15);\n",
              "      filter: drop-shadow(0px 1px 2px rgba(0, 0, 0, 0.3));\n",
              "      fill: #FFFFFF;\n",
              "    }\n",
              "  </style>\n",
              "\n",
              "      <script>\n",
              "        const buttonEl =\n",
              "          document.querySelector('#df-f63c377e-6325-46e6-a4cd-2db820f58306 button.colab-df-convert');\n",
              "        buttonEl.style.display =\n",
              "          google.colab.kernel.accessAllowed ? 'block' : 'none';\n",
              "\n",
              "        async function convertToInteractive(key) {\n",
              "          const element = document.querySelector('#df-f63c377e-6325-46e6-a4cd-2db820f58306');\n",
              "          const dataTable =\n",
              "            await google.colab.kernel.invokeFunction('convertToInteractive',\n",
              "                                                     [key], {});\n",
              "          if (!dataTable) return;\n",
              "\n",
              "          const docLinkHtml = 'Like what you see? Visit the ' +\n",
              "            '<a target=\"_blank\" href=https://colab.research.google.com/notebooks/data_table.ipynb>data table notebook</a>'\n",
              "            + ' to learn more about interactive tables.';\n",
              "          element.innerHTML = '';\n",
              "          dataTable['output_type'] = 'display_data';\n",
              "          await google.colab.output.renderOutput(dataTable, element);\n",
              "          const docLink = document.createElement('div');\n",
              "          docLink.innerHTML = docLinkHtml;\n",
              "          element.appendChild(docLink);\n",
              "        }\n",
              "      </script>\n",
              "    </div>\n",
              "  </div>\n",
              "  "
            ]
          },
          "metadata": {},
          "execution_count": 526
        }
      ]
    },
    {
      "cell_type": "markdown",
      "source": [
        "## 1.2 Nettoyages des données\n",
        "#### Le nettoyage de données inclurt des opérations telles que la la gestion des valeurs manquantes, la suppression de doublons, et la gestion des valeurs aberrantes.  "
      ],
      "metadata": {
        "id": "lK2UNq7yg5Fj"
      }
    },
    {
      "cell_type": "markdown",
      "source": [
        "### 1.2.1 Gestion des valeurs manquantes\n",
        "#### Les valeurs manquantes sont des valeurs absentes dans le jeu de données, généralement représentées par \"NaN\" ou \"NULL\". Les valeurs manquantes peuvent affecter les résultats d'un modèle de machine learning, car elles peuvent influencer les statistiques et les corrélations entre les variables. \n",
        "#### Cette étape implique la détermination de la façon de gérer ces valeurs manquantes, par exemple suppression de la ligne ou utilisation de la moyenne ou la médiane de la colonne correspondante..."
      ],
      "metadata": {
        "id": "5bBACAu9Jbum"
      }
    },
    {
      "cell_type": "code",
      "source": [
        "data.isnull().values.any() #Le dataset contient des valeurs manquantes (NaN)"
      ],
      "metadata": {
        "colab": {
          "base_uri": "https://localhost:8080/"
        },
        "id": "3u1NE6b_HIbZ",
        "outputId": "08cfecaa-9ddf-4491-f93d-c6fca96c1f3a"
      },
      "execution_count": null,
      "outputs": [
        {
          "output_type": "execute_result",
          "data": {
            "text/plain": [
              "True"
            ]
          },
          "metadata": {},
          "execution_count": 527
        }
      ]
    },
    {
      "cell_type": "code",
      "source": [
        "data.iloc[2251:2252] #Exemple du dataframe (ligne ayant 2 valaeurs manquantes NAN pour l'age et l'experience)"
      ],
      "metadata": {
        "colab": {
          "base_uri": "https://localhost:8080/",
          "height": 80
        },
        "id": "AcwM8SvSNqDD",
        "outputId": "d0fb3f80-441c-4a82-f471-2881c619d5c4"
      },
      "execution_count": null,
      "outputs": [
        {
          "output_type": "execute_result",
          "data": {
            "text/plain": [
              "     cheveux  age  exp  salaire sexe  diplome specialite   note dispo  \\\n",
              "2251    brun  NaN  NaN  35573.0    F  licence     forage  71.51   non   \n",
              "\n",
              "      embauche  \n",
              "2251         0  "
            ],
            "text/html": [
              "\n",
              "  <div id=\"df-938adf02-be77-464f-844b-c005be06c349\">\n",
              "    <div class=\"colab-df-container\">\n",
              "      <div>\n",
              "<style scoped>\n",
              "    .dataframe tbody tr th:only-of-type {\n",
              "        vertical-align: middle;\n",
              "    }\n",
              "\n",
              "    .dataframe tbody tr th {\n",
              "        vertical-align: top;\n",
              "    }\n",
              "\n",
              "    .dataframe thead th {\n",
              "        text-align: right;\n",
              "    }\n",
              "</style>\n",
              "<table border=\"1\" class=\"dataframe\">\n",
              "  <thead>\n",
              "    <tr style=\"text-align: right;\">\n",
              "      <th></th>\n",
              "      <th>cheveux</th>\n",
              "      <th>age</th>\n",
              "      <th>exp</th>\n",
              "      <th>salaire</th>\n",
              "      <th>sexe</th>\n",
              "      <th>diplome</th>\n",
              "      <th>specialite</th>\n",
              "      <th>note</th>\n",
              "      <th>dispo</th>\n",
              "      <th>embauche</th>\n",
              "    </tr>\n",
              "  </thead>\n",
              "  <tbody>\n",
              "    <tr>\n",
              "      <th>2251</th>\n",
              "      <td>brun</td>\n",
              "      <td>NaN</td>\n",
              "      <td>NaN</td>\n",
              "      <td>35573.0</td>\n",
              "      <td>F</td>\n",
              "      <td>licence</td>\n",
              "      <td>forage</td>\n",
              "      <td>71.51</td>\n",
              "      <td>non</td>\n",
              "      <td>0</td>\n",
              "    </tr>\n",
              "  </tbody>\n",
              "</table>\n",
              "</div>\n",
              "      <button class=\"colab-df-convert\" onclick=\"convertToInteractive('df-938adf02-be77-464f-844b-c005be06c349')\"\n",
              "              title=\"Convert this dataframe to an interactive table.\"\n",
              "              style=\"display:none;\">\n",
              "        \n",
              "  <svg xmlns=\"http://www.w3.org/2000/svg\" height=\"24px\"viewBox=\"0 0 24 24\"\n",
              "       width=\"24px\">\n",
              "    <path d=\"M0 0h24v24H0V0z\" fill=\"none\"/>\n",
              "    <path d=\"M18.56 5.44l.94 2.06.94-2.06 2.06-.94-2.06-.94-.94-2.06-.94 2.06-2.06.94zm-11 1L8.5 8.5l.94-2.06 2.06-.94-2.06-.94L8.5 2.5l-.94 2.06-2.06.94zm10 10l.94 2.06.94-2.06 2.06-.94-2.06-.94-.94-2.06-.94 2.06-2.06.94z\"/><path d=\"M17.41 7.96l-1.37-1.37c-.4-.4-.92-.59-1.43-.59-.52 0-1.04.2-1.43.59L10.3 9.45l-7.72 7.72c-.78.78-.78 2.05 0 2.83L4 21.41c.39.39.9.59 1.41.59.51 0 1.02-.2 1.41-.59l7.78-7.78 2.81-2.81c.8-.78.8-2.07 0-2.86zM5.41 20L4 18.59l7.72-7.72 1.47 1.35L5.41 20z\"/>\n",
              "  </svg>\n",
              "      </button>\n",
              "      \n",
              "  <style>\n",
              "    .colab-df-container {\n",
              "      display:flex;\n",
              "      flex-wrap:wrap;\n",
              "      gap: 12px;\n",
              "    }\n",
              "\n",
              "    .colab-df-convert {\n",
              "      background-color: #E8F0FE;\n",
              "      border: none;\n",
              "      border-radius: 50%;\n",
              "      cursor: pointer;\n",
              "      display: none;\n",
              "      fill: #1967D2;\n",
              "      height: 32px;\n",
              "      padding: 0 0 0 0;\n",
              "      width: 32px;\n",
              "    }\n",
              "\n",
              "    .colab-df-convert:hover {\n",
              "      background-color: #E2EBFA;\n",
              "      box-shadow: 0px 1px 2px rgba(60, 64, 67, 0.3), 0px 1px 3px 1px rgba(60, 64, 67, 0.15);\n",
              "      fill: #174EA6;\n",
              "    }\n",
              "\n",
              "    [theme=dark] .colab-df-convert {\n",
              "      background-color: #3B4455;\n",
              "      fill: #D2E3FC;\n",
              "    }\n",
              "\n",
              "    [theme=dark] .colab-df-convert:hover {\n",
              "      background-color: #434B5C;\n",
              "      box-shadow: 0px 1px 3px 1px rgba(0, 0, 0, 0.15);\n",
              "      filter: drop-shadow(0px 1px 2px rgba(0, 0, 0, 0.3));\n",
              "      fill: #FFFFFF;\n",
              "    }\n",
              "  </style>\n",
              "\n",
              "      <script>\n",
              "        const buttonEl =\n",
              "          document.querySelector('#df-938adf02-be77-464f-844b-c005be06c349 button.colab-df-convert');\n",
              "        buttonEl.style.display =\n",
              "          google.colab.kernel.accessAllowed ? 'block' : 'none';\n",
              "\n",
              "        async function convertToInteractive(key) {\n",
              "          const element = document.querySelector('#df-938adf02-be77-464f-844b-c005be06c349');\n",
              "          const dataTable =\n",
              "            await google.colab.kernel.invokeFunction('convertToInteractive',\n",
              "                                                     [key], {});\n",
              "          if (!dataTable) return;\n",
              "\n",
              "          const docLinkHtml = 'Like what you see? Visit the ' +\n",
              "            '<a target=\"_blank\" href=https://colab.research.google.com/notebooks/data_table.ipynb>data table notebook</a>'\n",
              "            + ' to learn more about interactive tables.';\n",
              "          element.innerHTML = '';\n",
              "          dataTable['output_type'] = 'display_data';\n",
              "          await google.colab.output.renderOutput(dataTable, element);\n",
              "          const docLink = document.createElement('div');\n",
              "          docLink.innerHTML = docLinkHtml;\n",
              "          element.appendChild(docLink);\n",
              "        }\n",
              "      </script>\n",
              "    </div>\n",
              "  </div>\n",
              "  "
            ]
          },
          "metadata": {},
          "execution_count": 528
        }
      ]
    },
    {
      "cell_type": "code",
      "source": [
        "print(\"Nombre de valeurs non manquantes pour chaque variable : \") \n",
        "data.count()                                     "
      ],
      "metadata": {
        "colab": {
          "base_uri": "https://localhost:8080/"
        },
        "id": "-Rr_dbapN7RC",
        "outputId": "d4ea7dab-33fb-4fdd-c80b-6f6c35627fd6"
      },
      "execution_count": null,
      "outputs": [
        {
          "output_type": "stream",
          "name": "stdout",
          "text": [
            "Nombre de valeurs non manquantes pour chaque variable : \n"
          ]
        },
        {
          "output_type": "execute_result",
          "data": {
            "text/plain": [
              "cheveux       19897\n",
              "age           19909\n",
              "exp           19904\n",
              "salaire       19905\n",
              "sexe          19900\n",
              "diplome       19890\n",
              "specialite    19907\n",
              "note          19886\n",
              "dispo         19894\n",
              "embauche      20000\n",
              "dtype: int64"
            ]
          },
          "metadata": {},
          "execution_count": 529
        }
      ]
    },
    {
      "cell_type": "markdown",
      "source": [
        "Le nombre de valeurs non manquantes pour toutes les variables est inférieur strictement au nombre total d'observations (20000), sauf pour la variable de prédiction \"embauche\" \n",
        "Donc on confirme qu'il existe des valeurs manquantes dans le dataset   "
      ],
      "metadata": {
        "id": "20iuSoFaZdQv"
      }
    },
    {
      "cell_type": "markdown",
      "source": [
        "on calcule maintenant le nombre de valeurs manquantes pour chaque variable (calcul complémentaire du calcul précédent)"
      ],
      "metadata": {
        "id": "SNIeou0jZWoW"
      }
    },
    {
      "cell_type": "code",
      "source": [
        "print(\"Nombre de valeurs manquantes pour chaque variable : \") \n",
        "data.isnull().sum()  \n",
        "\n",
        "# cheveux    : 19897 + 103 = 20000 \n",
        "# age        : 19909 + 91  = 20000 \n",
        "# exp        : 19904 + 96  = 20000 \n",
        "# salaire    : 19905 + 95  = 20000 \n",
        "# sexe       : 19900 + 100 = 20000 \n",
        "# diplome    : 19890 + 110 = 20000 \n",
        "# specialite : 19907 + 93  = 20000 \n",
        "# note       : 19886 + 114 = 20000 \n",
        "# dispo      : 19894 + 106 = 20000 \n",
        "# embauche   : 20000 + 0   = 20000 "
      ],
      "metadata": {
        "colab": {
          "base_uri": "https://localhost:8080/"
        },
        "id": "WQOxzEojSC_K",
        "outputId": "527565ee-addd-4edc-f443-e2aa02e81b6b"
      },
      "execution_count": null,
      "outputs": [
        {
          "output_type": "stream",
          "name": "stdout",
          "text": [
            "Nombre de valeurs manquantes pour chaque variable : \n"
          ]
        },
        {
          "output_type": "execute_result",
          "data": {
            "text/plain": [
              "cheveux       103\n",
              "age            91\n",
              "exp            96\n",
              "salaire        95\n",
              "sexe          100\n",
              "diplome       110\n",
              "specialite     93\n",
              "note          114\n",
              "dispo         106\n",
              "embauche        0\n",
              "dtype: int64"
            ]
          },
          "metadata": {},
          "execution_count": 530
        }
      ]
    },
    {
      "cell_type": "markdown",
      "source": [
        "calculons pour chauqe variable, la proportion du nombre des valeurs manquantes par rapport au nombre total des valeurs "
      ],
      "metadata": {
        "id": "ObBBIE_oaRqB"
      }
    },
    {
      "cell_type": "code",
      "source": [
        "missing_df = data.isnull().sum(axis=0).reset_index()\n",
        "missing_df.columns = ['Variable', 'Valeurs Manqauntes']\n",
        "missing_df['Proportion'] = round((missing_df['Valeurs Manqauntes'] / data.shape[0])*100).astype(int).astype(str) + '%'\n",
        "missing_df"
      ],
      "metadata": {
        "colab": {
          "base_uri": "https://localhost:8080/",
          "height": 363
        },
        "id": "AaxUrH36V6cm",
        "outputId": "b14bb107-c140-47dd-b171-1726c101092f"
      },
      "execution_count": null,
      "outputs": [
        {
          "output_type": "execute_result",
          "data": {
            "text/plain": [
              "     Variable  Valeurs Manqauntes Proportion\n",
              "0     cheveux                 103         1%\n",
              "1         age                  91         0%\n",
              "2         exp                  96         0%\n",
              "3     salaire                  95         0%\n",
              "4        sexe                 100         0%\n",
              "5     diplome                 110         1%\n",
              "6  specialite                  93         0%\n",
              "7        note                 114         1%\n",
              "8       dispo                 106         1%\n",
              "9    embauche                   0         0%"
            ],
            "text/html": [
              "\n",
              "  <div id=\"df-802ee143-e10b-41f7-947f-ce304eca2c07\">\n",
              "    <div class=\"colab-df-container\">\n",
              "      <div>\n",
              "<style scoped>\n",
              "    .dataframe tbody tr th:only-of-type {\n",
              "        vertical-align: middle;\n",
              "    }\n",
              "\n",
              "    .dataframe tbody tr th {\n",
              "        vertical-align: top;\n",
              "    }\n",
              "\n",
              "    .dataframe thead th {\n",
              "        text-align: right;\n",
              "    }\n",
              "</style>\n",
              "<table border=\"1\" class=\"dataframe\">\n",
              "  <thead>\n",
              "    <tr style=\"text-align: right;\">\n",
              "      <th></th>\n",
              "      <th>Variable</th>\n",
              "      <th>Valeurs Manqauntes</th>\n",
              "      <th>Proportion</th>\n",
              "    </tr>\n",
              "  </thead>\n",
              "  <tbody>\n",
              "    <tr>\n",
              "      <th>0</th>\n",
              "      <td>cheveux</td>\n",
              "      <td>103</td>\n",
              "      <td>1%</td>\n",
              "    </tr>\n",
              "    <tr>\n",
              "      <th>1</th>\n",
              "      <td>age</td>\n",
              "      <td>91</td>\n",
              "      <td>0%</td>\n",
              "    </tr>\n",
              "    <tr>\n",
              "      <th>2</th>\n",
              "      <td>exp</td>\n",
              "      <td>96</td>\n",
              "      <td>0%</td>\n",
              "    </tr>\n",
              "    <tr>\n",
              "      <th>3</th>\n",
              "      <td>salaire</td>\n",
              "      <td>95</td>\n",
              "      <td>0%</td>\n",
              "    </tr>\n",
              "    <tr>\n",
              "      <th>4</th>\n",
              "      <td>sexe</td>\n",
              "      <td>100</td>\n",
              "      <td>0%</td>\n",
              "    </tr>\n",
              "    <tr>\n",
              "      <th>5</th>\n",
              "      <td>diplome</td>\n",
              "      <td>110</td>\n",
              "      <td>1%</td>\n",
              "    </tr>\n",
              "    <tr>\n",
              "      <th>6</th>\n",
              "      <td>specialite</td>\n",
              "      <td>93</td>\n",
              "      <td>0%</td>\n",
              "    </tr>\n",
              "    <tr>\n",
              "      <th>7</th>\n",
              "      <td>note</td>\n",
              "      <td>114</td>\n",
              "      <td>1%</td>\n",
              "    </tr>\n",
              "    <tr>\n",
              "      <th>8</th>\n",
              "      <td>dispo</td>\n",
              "      <td>106</td>\n",
              "      <td>1%</td>\n",
              "    </tr>\n",
              "    <tr>\n",
              "      <th>9</th>\n",
              "      <td>embauche</td>\n",
              "      <td>0</td>\n",
              "      <td>0%</td>\n",
              "    </tr>\n",
              "  </tbody>\n",
              "</table>\n",
              "</div>\n",
              "      <button class=\"colab-df-convert\" onclick=\"convertToInteractive('df-802ee143-e10b-41f7-947f-ce304eca2c07')\"\n",
              "              title=\"Convert this dataframe to an interactive table.\"\n",
              "              style=\"display:none;\">\n",
              "        \n",
              "  <svg xmlns=\"http://www.w3.org/2000/svg\" height=\"24px\"viewBox=\"0 0 24 24\"\n",
              "       width=\"24px\">\n",
              "    <path d=\"M0 0h24v24H0V0z\" fill=\"none\"/>\n",
              "    <path d=\"M18.56 5.44l.94 2.06.94-2.06 2.06-.94-2.06-.94-.94-2.06-.94 2.06-2.06.94zm-11 1L8.5 8.5l.94-2.06 2.06-.94-2.06-.94L8.5 2.5l-.94 2.06-2.06.94zm10 10l.94 2.06.94-2.06 2.06-.94-2.06-.94-.94-2.06-.94 2.06-2.06.94z\"/><path d=\"M17.41 7.96l-1.37-1.37c-.4-.4-.92-.59-1.43-.59-.52 0-1.04.2-1.43.59L10.3 9.45l-7.72 7.72c-.78.78-.78 2.05 0 2.83L4 21.41c.39.39.9.59 1.41.59.51 0 1.02-.2 1.41-.59l7.78-7.78 2.81-2.81c.8-.78.8-2.07 0-2.86zM5.41 20L4 18.59l7.72-7.72 1.47 1.35L5.41 20z\"/>\n",
              "  </svg>\n",
              "      </button>\n",
              "      \n",
              "  <style>\n",
              "    .colab-df-container {\n",
              "      display:flex;\n",
              "      flex-wrap:wrap;\n",
              "      gap: 12px;\n",
              "    }\n",
              "\n",
              "    .colab-df-convert {\n",
              "      background-color: #E8F0FE;\n",
              "      border: none;\n",
              "      border-radius: 50%;\n",
              "      cursor: pointer;\n",
              "      display: none;\n",
              "      fill: #1967D2;\n",
              "      height: 32px;\n",
              "      padding: 0 0 0 0;\n",
              "      width: 32px;\n",
              "    }\n",
              "\n",
              "    .colab-df-convert:hover {\n",
              "      background-color: #E2EBFA;\n",
              "      box-shadow: 0px 1px 2px rgba(60, 64, 67, 0.3), 0px 1px 3px 1px rgba(60, 64, 67, 0.15);\n",
              "      fill: #174EA6;\n",
              "    }\n",
              "\n",
              "    [theme=dark] .colab-df-convert {\n",
              "      background-color: #3B4455;\n",
              "      fill: #D2E3FC;\n",
              "    }\n",
              "\n",
              "    [theme=dark] .colab-df-convert:hover {\n",
              "      background-color: #434B5C;\n",
              "      box-shadow: 0px 1px 3px 1px rgba(0, 0, 0, 0.15);\n",
              "      filter: drop-shadow(0px 1px 2px rgba(0, 0, 0, 0.3));\n",
              "      fill: #FFFFFF;\n",
              "    }\n",
              "  </style>\n",
              "\n",
              "      <script>\n",
              "        const buttonEl =\n",
              "          document.querySelector('#df-802ee143-e10b-41f7-947f-ce304eca2c07 button.colab-df-convert');\n",
              "        buttonEl.style.display =\n",
              "          google.colab.kernel.accessAllowed ? 'block' : 'none';\n",
              "\n",
              "        async function convertToInteractive(key) {\n",
              "          const element = document.querySelector('#df-802ee143-e10b-41f7-947f-ce304eca2c07');\n",
              "          const dataTable =\n",
              "            await google.colab.kernel.invokeFunction('convertToInteractive',\n",
              "                                                     [key], {});\n",
              "          if (!dataTable) return;\n",
              "\n",
              "          const docLinkHtml = 'Like what you see? Visit the ' +\n",
              "            '<a target=\"_blank\" href=https://colab.research.google.com/notebooks/data_table.ipynb>data table notebook</a>'\n",
              "            + ' to learn more about interactive tables.';\n",
              "          element.innerHTML = '';\n",
              "          dataTable['output_type'] = 'display_data';\n",
              "          await google.colab.output.renderOutput(dataTable, element);\n",
              "          const docLink = document.createElement('div');\n",
              "          docLink.innerHTML = docLinkHtml;\n",
              "          element.appendChild(docLink);\n",
              "        }\n",
              "      </script>\n",
              "    </div>\n",
              "  </div>\n",
              "  "
            ]
          },
          "metadata": {},
          "execution_count": 531
        }
      ]
    },
    {
      "cell_type": "markdown",
      "source": [
        "Les valeurs manquantes représentent entre 0% et 1% de leur variable correspondante. On pourra donc les supprimer sans affecter les données."
      ],
      "metadata": {
        "id": "7jtooA80Y25M"
      }
    },
    {
      "cell_type": "code",
      "source": [
        "data.dropna(inplace=True)"
      ],
      "metadata": {
        "id": "N1BCTEKnbAtJ"
      },
      "execution_count": null,
      "outputs": []
    },
    {
      "cell_type": "markdown",
      "source": [
        "Revérifions si le dataset ne contient plus de valeurs manquantes"
      ],
      "metadata": {
        "id": "LA3tWN3Sbwg2"
      }
    },
    {
      "cell_type": "code",
      "source": [
        "print(data.isnull().values.any()) #Le dataset ne contient plus de valeurs manquantes (NaN)\n",
        "print(\"\")\n",
        "\n",
        "print(\"Nombre de valeurs manquantes pour chaque variable : \") \n",
        "print(data.isnull().sum())\n",
        "print(\"\")\n",
        "\n",
        "print(\"Nombre de valeurs non manquantes pour chaque variable : \") \n",
        "print(data.count())  \n",
        "print(\"\")"
      ],
      "metadata": {
        "colab": {
          "base_uri": "https://localhost:8080/"
        },
        "id": "gvaZZy0wb6Ft",
        "outputId": "a2c0094c-8a67-476c-dab5-8b5470bdcbe6"
      },
      "execution_count": null,
      "outputs": [
        {
          "output_type": "stream",
          "name": "stdout",
          "text": [
            "False\n",
            "\n",
            "Nombre de valeurs manquantes pour chaque variable : \n",
            "cheveux       0\n",
            "age           0\n",
            "exp           0\n",
            "salaire       0\n",
            "sexe          0\n",
            "diplome       0\n",
            "specialite    0\n",
            "note          0\n",
            "dispo         0\n",
            "embauche      0\n",
            "dtype: int64\n",
            "\n",
            "Nombre de valeurs non manquantes pour chaque variable : \n",
            "cheveux       19109\n",
            "age           19109\n",
            "exp           19109\n",
            "salaire       19109\n",
            "sexe          19109\n",
            "diplome       19109\n",
            "specialite    19109\n",
            "note          19109\n",
            "dispo         19109\n",
            "embauche      19109\n",
            "dtype: int64\n",
            "\n"
          ]
        }
      ]
    },
    {
      "cell_type": "code",
      "source": [
        " print(\"Nombre d’observations aprés la suppression des valeurs manquantes : \", len(data)) #afficher la nouvelle taille du dataframe (nombre de lignes)"
      ],
      "metadata": {
        "colab": {
          "base_uri": "https://localhost:8080/"
        },
        "id": "8hGsF20ClGbe",
        "outputId": "7052d8bc-dc9d-4d9e-91af-005f39fd3278"
      },
      "execution_count": null,
      "outputs": [
        {
          "output_type": "stream",
          "name": "stdout",
          "text": [
            "Nombre d’observations aprés la suppression des valeurs manquantes :  19109\n"
          ]
        }
      ]
    },
    {
      "cell_type": "markdown",
      "source": [
        "On a supprimé en tout (2OOOO - 19109 = 891) lignes de notre dataset initial"
      ],
      "metadata": {
        "id": "iwUbsrzilVTl"
      }
    },
    {
      "cell_type": "markdown",
      "source": [
        "### 1.2.2 Suppression de doublons\n",
        "#### Les doublons sont des entrées (lignes) en double dans le jeu de données. Les doublons peuvent perturber les résultats d'un modèle de machine learning en augmentant la taille du jeu de données sans apporter de nouvelles informations.\n",
        "#### Cette étape implique la suppression de ces doublons."
      ],
      "metadata": {
        "id": "D7AHxT50h9d0"
      }
    },
    {
      "cell_type": "code",
      "source": [
        "data.drop_duplicates(inplace = True)\n",
        "\n",
        "print(\"Nombre d’observations aprés la suppression des doublons : \", len(data))"
      ],
      "metadata": {
        "colab": {
          "base_uri": "https://localhost:8080/"
        },
        "id": "nH_y8vgPiav8",
        "outputId": "484d5a77-7bad-462b-cea6-131396e754e7"
      },
      "execution_count": null,
      "outputs": [
        {
          "output_type": "stream",
          "name": "stdout",
          "text": [
            "Nombre d’observations aprés la suppression des doublons :  19109\n"
          ]
        }
      ]
    },
    {
      "cell_type": "markdown",
      "source": [
        "Le nombre d’observations n'a pas diminué après la suppression des doublons, et donc il n'y a pas de doublons dans le dataset.\n"
      ],
      "metadata": {
        "id": "nxmFZtSgmIJH"
      }
    },
    {
      "cell_type": "markdown",
      "source": [
        "### 1.2.3 Gestion des valeurs aberrantes (Outliers)\n",
        "#### Les valeurs aberrantes sont des valeurs très éloignées de la distribution normale des données, ce qui peut affecter les résultats des modèles de machine learning. \n",
        "#### Cette étape implique la détermination de la façon de gérer ces valeurs aberrantes, par exemple suppression, correction... \n",
        "\n"
      ],
      "metadata": {
        "id": "bXxH6afpmzFr"
      }
    },
    {
      "cell_type": "code",
      "source": [
        "#data.drop(['embauche'], axis=1).plot(kind='box', figsize=(18, 16), subplots=True, layout=(4,2), sharex=False, sharey=False, title='Attributes Box Plots')\n",
        "#plt.show()"
      ],
      "metadata": {
        "id": "xOFg_UYG-wUj"
      },
      "execution_count": null,
      "outputs": []
    },
    {
      "cell_type": "code",
      "source": [
        "data = data.loc[((data['note'] >= 0) & (data['note'] <= 100)) & ((data['age'] >= 18) & (data['age'] <= 65)) & (data['exp'] >= 0) & (data['salaire'] >= 0)]"
      ],
      "metadata": {
        "id": "FcLMpp2X2St6"
      },
      "execution_count": null,
      "outputs": []
    },
    {
      "cell_type": "code",
      "source": [
        "Q1 = data['age'].describe()['25%']\n",
        "Q3 = data['age'].describe()['75%']\n",
        "\n",
        "iqr = Q3 - Q1\n",
        "Max = Q3 + 1.5 * iqr\n",
        "Min = Q1 - 1.5 * iqr\n",
        "\n",
        "data = data[(data['age'] > Min) & (data['age'] < Max)]"
      ],
      "metadata": {
        "id": "zutOC8D22s2f"
      },
      "execution_count": null,
      "outputs": []
    },
    {
      "cell_type": "code",
      "source": [
        "Q1 = data['exp'].describe()['25%']\n",
        "Q3 = data['exp'].describe()['75%']\n",
        "\n",
        "iqr = Q3 - Q1\n",
        "Min = Q3 + 1.5 * iqr\n",
        "Max = Q1 - 1.5 * iqr\n",
        "\n",
        "data = data[(data['exp'] > Min) & (data['exp'] < Max)]"
      ],
      "metadata": {
        "id": "JRUlNe964HEX"
      },
      "execution_count": null,
      "outputs": []
    },
    {
      "cell_type": "code",
      "source": [
        "Q1 = data['salaire'].describe()['25%']\n",
        "Q3 = data['salaire'].describe()['75%']\n",
        "\n",
        "iqr = Q3 - Q1\n",
        "Max = Q3 + 1.5 * iqr\n",
        "Min = Q1 - 1.5 * iqr\n",
        "\n",
        "data = data[(data['salaire'] > Min) & (data['salaire'] < Max)]"
      ],
      "metadata": {
        "id": "cYEY_krs4jNm"
      },
      "execution_count": null,
      "outputs": []
    },
    {
      "cell_type": "code",
      "source": [
        "Q1 = data['note'].describe()['25%']\n",
        "Q3 = data['note'].describe()['75%']\n",
        "\n",
        "iqr = Q3 - Q1\n",
        "Min = Q3 + 1.5 * iqr\n",
        "Max = Q1 - 1.5 * iqr\n",
        "\n",
        "data = data[(data['note'] > Min) & (data['note'] < Max)]"
      ],
      "metadata": {
        "id": "A8v7a54W5vSf"
      },
      "execution_count": null,
      "outputs": []
    },
    {
      "cell_type": "code",
      "source": [
        "data.drop(['embauche'], axis=1).plot(kind='box', figsize=(15, 5), subplots=True, layout=(2,2), sharex=False, sharey=False, title='Attributes Box Plots')\n",
        "plt.show()"
      ],
      "metadata": {
        "colab": {
          "base_uri": "https://localhost:8080/",
          "height": 356
        },
        "id": "rsL2eapu9FLw",
        "outputId": "12a987ad-7790-4e5f-8d40-700368636015"
      },
      "execution_count": null,
      "outputs": [
        {
          "output_type": "display_data",
          "data": {
            "text/plain": [
              "<Figure size 1080x360 with 4 Axes>"
            ],
            "image/png": "[encoded data removed]"
          },
          "metadata": {
            "needs_background": "light"
          }
        }
      ]
    },
    {
      "cell_type": "code",
      "source": [],
      "metadata": {
        "id": "bZFGpUmeB74e"
      },
      "execution_count": null,
      "outputs": []
    },
    {
      "cell_type": "code",
      "source": [
        "#Nombre d'outliers pour la variable age\n",
        "df = data[\"age\"]\n",
        "df = df.to_frame() #\n",
        "age_outliers = df[(df['age'] < 18) | (df['age'] > 65)]\n",
        "num_age_outliers = age_outliers[\"age\"].count()\n",
        "print(\"Le nombre d'outliers dans la colonne 'âge' est:\", num_age_outliers)\n",
        "\n",
        "#Nombre d'outliers pour la variable exp\n",
        "df = data[\"exp\"]\n",
        "df = df.to_frame() #\n",
        "age_outliers = df[(df['exp'] < 0)]\n",
        "num_age_outliers = age_outliers[\"exp\"].count()\n",
        "print(\"Le nombre d'outliers dans la colonne 'exp' est:\", num_age_outliers)\n",
        "\n",
        "#Nombre d'outliers pour la variable salaire\n",
        "df = data[\"salaire\"]\n",
        "df = df.to_frame() #\n",
        "age_outliers = df[(df['salaire'] < 0)]\n",
        "num_age_outliers = age_outliers[\"salaire\"].count()\n",
        "print(\"Le nombre d'outliers dans la colonne 'salaire' est:\", num_age_outliers)\n",
        "\n",
        "#Nombre d'outliers pour la variable note\n",
        "df = data[\"note\"]\n",
        "df = df.to_frame() #\n",
        "age_outliers = df[(df['note'] < 0) | (df['note'] > 100)]\n",
        "num_age_outliers = age_outliers[\"note\"].count()\n",
        "print(\"Le nombre d'outliers dans la colonne 'note' est:\", num_age_outliers)"
      ],
      "metadata": {
        "colab": {
          "base_uri": "https://localhost:8080/"
        },
        "id": "jxp-8jczsG0w",
        "outputId": "d3498249-1962-484d-f46d-786e50488dfa"
      },
      "execution_count": null,
      "outputs": [
        {
          "output_type": "stream",
          "name": "stdout",
          "text": [
            "Le nombre d'outliers dans la colonne 'âge' est: 0\n",
            "Le nombre d'outliers dans la colonne 'exp' est: 0\n",
            "Le nombre d'outliers dans la colonne 'salaire' est: 0\n",
            "Le nombre d'outliers dans la colonne 'note' est: 0\n"
          ]
        }
      ]
    },
    {
      "cell_type": "code",
      "source": [
        "#Nombre d'outliers pour la variable age\n",
        "df = data[\"age\"]\n",
        "df = df.to_frame() #\n",
        "age_outliers = df[(df['age'] < 18) | (df['age'] > 65)]\n",
        "num_age_outliers = age_outliers[\"age\"].count()\n",
        "print(\"Le nombre d'outliers dans la colonne 'âge' est:\", num_age_outliers)\n",
        "\n",
        "#Nombre d'outliers pour la variable exp\n",
        "df = data[\"exp\"]\n",
        "df = df.to_frame() #\n",
        "age_outliers = df[(df['exp'] < 0)]\n",
        "num_age_outliers = age_outliers[\"exp\"].count()\n",
        "print(\"Le nombre d'outliers dans la colonne 'exp' est:\", num_age_outliers)\n",
        "\n",
        "#Nombre d'outliers pour la variable salaire\n",
        "df = data[\"salaire\"]\n",
        "df = df.to_frame() #\n",
        "age_outliers = df[(df['salaire'] < 0)]\n",
        "num_age_outliers = age_outliers[\"salaire\"].count()\n",
        "print(\"Le nombre d'outliers dans la colonne 'salaire' est:\", num_age_outliers)\n",
        "\n",
        "#Nombre d'outliers pour la variable note\n",
        "df = data[\"note\"]\n",
        "df = df.to_frame() #\n",
        "age_outliers = df[(df['note'] < 0) | (df['note'] > 100)]\n",
        "num_age_outliers = age_outliers[\"note\"].count()\n",
        "print(\"Le nombre d'outliers dans la colonne 'note' est:\", num_age_outliers)"
      ],
      "metadata": {
        "colab": {
          "base_uri": "https://localhost:8080/"
        },
        "id": "Zti_uNcS9B8Y",
        "outputId": "faf20549-efef-4ab5-98e3-bb89019b4df0"
      },
      "execution_count": null,
      "outputs": [
        {
          "output_type": "stream",
          "name": "stdout",
          "text": [
            "Le nombre d'outliers dans la colonne 'âge' est: 0\n",
            "Le nombre d'outliers dans la colonne 'exp' est: 0\n",
            "Le nombre d'outliers dans la colonne 'salaire' est: 0\n",
            "Le nombre d'outliers dans la colonne 'note' est: 0\n"
          ]
        }
      ]
    }
  ]
}